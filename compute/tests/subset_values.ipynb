{
 "cells": [
  {
   "cell_type": "code",
   "execution_count": null,
   "metadata": {},
   "outputs": [],
   "source": [
    "import os\n",
    "import cwt\n",
    "from cwt import auth\n",
    "\n",
    "url = os.environ.get('WPS_URL', 'https://aims2.llnl.gov/wps')\n",
    "token = os.environ.get('WPS_TOKEN', None)\n",
    "verify = bool(os.environ.get('WPS_VERIFY', True))\n",
    "timeout = float(os.environ.get('WPS_TIMEOUT', 120))"
   ]
  },
  {
   "cell_type": "code",
   "execution_count": null,
   "metadata": {},
   "outputs": [],
   "source": [
    "token = auth.TokenAuthenticator(token, key='COMPUTE_TOKEN', value='{}')\n",
    "\n",
    "client = cwt.WPSClient(url, auth=token, verify=verify)"
   ]
  },
  {
   "cell_type": "code",
   "execution_count": null,
   "metadata": {},
   "outputs": [],
   "source": [
    "d0 = cwt.Domain(time=('2008-01-02T09:00:00.000000000', '2008-01-03T15:00:00.000000000'), lat=(-45, 45))\n",
    "\n",
    "v0 = cwt.Variable('http://aims3.llnl.gov/thredds/dodsC/cmip5_css01_data/cmip5/output1/CNRM-CERFACS/CNRM-CM5/amip/3hr/atmos/cf3hr/r1i1p1/v20120203/pr/pr_cf3hr_CNRM-CM5_amip_r1i1p1_200801010300-200901010000.nc', 'pr')"
   ]
  },
  {
   "cell_type": "code",
   "execution_count": null,
   "metadata": {},
   "outputs": [],
   "source": [
    "subset = client.CDAT.subset(v0, domain=d0)"
   ]
  },
  {
   "cell_type": "code",
   "execution_count": null,
   "metadata": {},
   "outputs": [],
   "source": [
    "client.execute(subset)\n",
    "\n",
    "subset.wait(timeout=timeout)"
   ]
  },
  {
   "cell_type": "code",
   "execution_count": null,
   "metadata": {},
   "outputs": [],
   "source": [
    "import xarray as xr\n",
    "import hashlib\n",
    "\n",
    "ds = xr.open_dataset(subset.output.uri)\n",
    "\n",
    "digest = hashlib.sha256(ds.pr.values.tobytes()).hexdigest()\n",
    "\n",
    "assert digest == '0e27300f88260f943ded65a440ec8112ba30a1a0ed0b74393d80789449109b61', f'missmatch digest {digest}'"
   ]
  },
  {
   "cell_type": "code",
   "execution_count": null,
   "metadata": {},
   "outputs": [],
   "source": []
  }
 ],
 "metadata": {
  "kernelspec": {
   "display_name": "Python 3",
   "language": "python",
   "name": "python3"
  },
  "language_info": {
   "codemirror_mode": {
    "name": "ipython",
    "version": 3
   },
   "file_extension": ".py",
   "mimetype": "text/x-python",
   "name": "python",
   "nbconvert_exporter": "python",
   "pygments_lexer": "ipython3",
   "version": "3.8.2"
  }
 },
 "nbformat": 4,
 "nbformat_minor": 4
}
