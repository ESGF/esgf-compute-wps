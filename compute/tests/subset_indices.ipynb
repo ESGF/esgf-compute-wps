{
 "cells": [
  {
   "cell_type": "code",
   "execution_count": 1,
   "metadata": {},
   "outputs": [],
   "source": [
    "import os\n",
    "import cwt\n",
    "from cwt import auth\n",
    "\n",
    "url = os.environ.get('WPS_URL', 'https://aims2.llnl.gov/wps')\n",
    "token = os.environ.get('WPS_TOKEN', 'ANXnEmQgMOf6XQOqywVhJvuj7kTzmjNxzjEcHAQRlKTaBzfsIZyNs4qCYrW3cA4r')\n",
    "verify = bool(os.environ.get('WPS_VERIFY', True))\n",
    "timeout = float(os.environ.get('WPS_TIMEOUT', 120))"
   ]
  },
  {
   "cell_type": "code",
   "execution_count": 2,
   "metadata": {},
   "outputs": [],
   "source": [
    "token = auth.TokenAuthenticator(token, key='COMPUTE_TOKEN', value='{}')\n",
    "\n",
    "client = cwt.WPSClient(url, auth=token, verify=verify)"
   ]
  },
  {
   "cell_type": "code",
   "execution_count": 3,
   "metadata": {},
   "outputs": [],
   "source": [
    "d0 = cwt.Domain(time=slice(10, 50), lat=slice(0, 10))\n",
    "\n",
    "v0 = cwt.Variable('http://aims3.llnl.gov/thredds/dodsC/cmip5_css01_data/cmip5/output1/CNRM-CERFACS/CNRM-CM5/amip/3hr/atmos/cf3hr/r1i1p1/v20120203/pr/pr_cf3hr_CNRM-CM5_amip_r1i1p1_200801010300-200901010000.nc', 'pr')"
   ]
  },
  {
   "cell_type": "code",
   "execution_count": 4,
   "metadata": {},
   "outputs": [],
   "source": [
    "subset = client.CDAT.subset(v0, domain=d0)"
   ]
  },
  {
   "cell_type": "code",
   "execution_count": 5,
   "metadata": {},
   "outputs": [
    {
     "name": "stdout",
     "output_type": "stream",
     "text": [
      "ProcessAccepted None\n",
      "ProcessStarted Preparing to execute workflow 0\n",
      "ProcessStarted Building output for 'a0d1ec24' - 'CDAT.subset' 0\n",
      "ProcessSucceeded None\n"
     ]
    },
    {
     "data": {
      "text/plain": [
       "True"
      ]
     },
     "execution_count": 5,
     "metadata": {},
     "output_type": "execute_result"
    }
   ],
   "source": [
    "client.execute(subset)\n",
    "\n",
    "subset.wait(timeout=timeout)"
   ]
  },
  {
   "cell_type": "code",
   "execution_count": null,
   "metadata": {},
   "outputs": [],
   "source": [
    "import xarray as xr\n",
    "import hashlib\n",
    "\n",
    "ds = xr.open_dataset(subset.output.uri)\n",
    "\n",
    "digest = hashlib.sha256(ds.pr.values.tobytes()).hexdigest()\n",
    "\n",
    "assert digest == '123a532c4be10741135fe15545aa5bab57bc62275d9b5d1ab2da98bee5212ceb', f'missmatch digest {digest}'"
   ]
  },
  {
   "cell_type": "code",
   "execution_count": null,
   "metadata": {},
   "outputs": [],
   "source": []
  }
 ],
 "metadata": {
  "kernelspec": {
   "display_name": "jupyterlab",
   "language": "python",
   "name": "jupyterlab"
  },
  "language_info": {
   "codemirror_mode": {
    "name": "ipython",
    "version": 3
   },
   "file_extension": ".py",
   "mimetype": "text/x-python",
   "name": "python",
   "nbconvert_exporter": "python",
   "pygments_lexer": "ipython3",
   "version": "3.8.2"
  }
 },
 "nbformat": 4,
 "nbformat_minor": 4
}
