{
 "cells": [
  {
   "cell_type": "code",
   "execution_count": null,
   "metadata": {},
   "outputs": [],
   "source": [
    "import os\n",
    "import cwt\n",
    "from cwt import auth\n",
    "\n",
    "url = os.environ.get('WPS_URL', 'https://aims2.llnl.gov/wps')\n",
    "token = os.environ.get('WPS_TOKEN', None)\n",
    "verify = bool(os.environ.get('WPS_VERIFY', True))\n",
    "timeout = float(os.environ.get('WPS_TIMEOUT', 120))"
   ]
  },
  {
   "cell_type": "code",
   "execution_count": null,
   "metadata": {},
   "outputs": [],
   "source": [
    "token = auth.TokenAuthenticator(token, key='COMPUTE_TOKEN', value='{}')\n",
    "\n",
    "client = cwt.WPSClient(url, auth=token, verify=verify)"
   ]
  },
  {
   "cell_type": "code",
   "execution_count": null,
   "metadata": {},
   "outputs": [],
   "source": [
    "d0 = cwt.Domain(time=('1979-06-01', '1980-06-01'), lat=(-45, 45))\n",
    "\n",
    "v0 = cwt.Variable('http://aims3.llnl.gov/thredds/dodsC/cmip5_css02_data/cmip5/output1/CMCC/CMCC-CM/amip/3hr/atmos/3hr/r1i1p1/pr/1/pr_3hr_CMCC-CM_amip_r1i1p1_197901010130-197912312230.nc', 'pr')\n",
    "v1 = cwt.Variable('http://aims3.llnl.gov/thredds/dodsC/cmip5_css02_data/cmip5/output1/CMCC/CMCC-CM/amip/3hr/atmos/3hr/r1i1p1/pr/1/pr_3hr_CMCC-CM_amip_r1i1p1_198001010130-198008291630.nc', 'pr')"
   ]
  },
  {
   "cell_type": "code",
   "execution_count": null,
   "metadata": {},
   "outputs": [],
   "source": [
    "aggregate = client.CDAT.aggregate(v0, v1)\n",
    "\n",
    "subset = client.CDAT.subset(aggregate, domain=d0)"
   ]
  },
  {
   "cell_type": "code",
   "execution_count": null,
   "metadata": {},
   "outputs": [],
   "source": [
    "client.execute(subset)\n",
    "\n",
    "subset.wait(timeout=timeout)"
   ]
  },
  {
   "cell_type": "code",
   "execution_count": null,
   "metadata": {},
   "outputs": [],
   "source": [
    "import xarray as xr\n",
    "import hashlib\n",
    "\n",
    "ds = xr.open_mfdataset([x.uri for x in subset.output], chunks={'time': 100}, combine='by_coords')\n",
    "\n",
    "digest = hashlib.sha256(ds.pr.values.tobytes()).hexdigest()\n",
    "\n",
    "assert digest == 'c525ec07a6f535d416fdefc3def2b3508faa661f4d7e2bafb0b2ac2f80d8156f', f'missmatch digest {digest}'"
   ]
  },
  {
   "cell_type": "code",
   "execution_count": null,
   "metadata": {},
   "outputs": [],
   "source": []
  }
 ],
 "metadata": {
  "kernelspec": {
   "display_name": "jupyterlab",
   "language": "python",
   "name": "jupyterlab"
  },
  "language_info": {
   "codemirror_mode": {
    "name": "ipython",
    "version": 3
   },
   "file_extension": ".py",
   "mimetype": "text/x-python",
   "name": "python",
   "nbconvert_exporter": "python",
   "pygments_lexer": "ipython3",
   "version": "3.8.2"
  }
 },
 "nbformat": 4,
 "nbformat_minor": 4
}
