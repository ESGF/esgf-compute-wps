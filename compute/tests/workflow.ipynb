{
 "cells": [
  {
   "cell_type": "code",
   "execution_count": null,
   "metadata": {},
   "outputs": [],
   "source": [
    "import os\n",
    "import cwt\n",
    "import numpy as np\n",
    "from cwt import auth\n",
    "\n",
    "url = os.environ.get('WPS_URL', 'https://aims2.llnl.gov/wps')\n",
    "token = os.environ.get('WPS_TOKEN', None)\n",
    "verify = os.environ.get('WPS_VERIFY', True)\n",
    "timeout = os.environ.get('WPS_TIMEOUT', 120)"
   ]
  },
  {
   "cell_type": "code",
   "execution_count": null,
   "metadata": {},
   "outputs": [],
   "source": [
    "token = auth.TokenAuthenticator(token, key='COMPUTE_TOKEN', value='{}')\n",
    "\n",
    "client = cwt.WPSClient(url, auth=token, verify=verify)"
   ]
  },
  {
   "cell_type": "code",
   "execution_count": null,
   "metadata": {},
   "outputs": [],
   "source": [
    "d0 = cwt.Domain(time=('2008-01-02T09:00:00.000000000', '2008-01-03T15:00:00.000000000'), lat=(-45, 45))\n",
    "\n",
    "v0 = cwt.Variable('http://aims3.llnl.gov/thredds/dodsC/cmip5_css01_data/cmip5/output1/CNRM-CERFACS/CNRM-CM5/amip/3hr/atmos/cf3hr/r1i1p1/v20120203/pr/pr_cf3hr_CNRM-CM5_amip_r1i1p1_200801010300-200901010000.nc', 'pr')"
   ]
  },
  {
   "cell_type": "code",
   "execution_count": null,
   "metadata": {},
   "outputs": [],
   "source": [
    "subset = client.CDAT.subset(v0, domain=d0)\n",
    "\n",
    "scaled = client.CDAT.multiply(subset, const=10, variable='pr')\n",
    "\n",
    "binned = client.CDAT.groupby_bins(scaled, bins=np.arange(0, 0.02391861, 0.001).tolist(), variable='pr')\n",
    "\n",
    "mean = client.CDAT.mean(binned, rename=['pr', 'pr_mean'])\n",
    "\n",
    "std = client.CDAT.std(binned, rename=['pr', 'pr_std'])\n",
    "\n",
    "var = client.CDAT.var(binned, rename=['pr', 'pr_var'])\n",
    "\n",
    "workflow = client.CDAT.workflow(mean, std, var)"
   ]
  },
  {
   "cell_type": "code",
   "execution_count": null,
   "metadata": {},
   "outputs": [],
   "source": [
    "client.execute(workflow)\n",
    "\n",
    "workflow.wait(timeout=timeout)"
   ]
  },
  {
   "cell_type": "code",
   "execution_count": null,
   "metadata": {},
   "outputs": [],
   "source": [
    "import xarray as xr\n",
    "import hashlib\n",
    "\n",
    "ds = [xr.open_dataset(x.uri) for x in workflow.output]\n",
    "\n",
    "def find_name(ds):\n",
    "    for x in ('pr_mean', 'pr_std', 'pr_var'):\n",
    "        if x in ds:\n",
    "            return x\n",
    "    return None\n",
    "\n",
    "var_names = [find_name(x) for x in ds]\n",
    "\n",
    "digest = dict((x, hashlib.sha256(y[x].values.tobytes()).hexdigest()) for x, y in zip(var_names, ds))\n",
    "\n",
    "assert digest['pr_var'] == 'e7c3b44b61d87a9e0b188fda59f8df2345cce94a9d7cd40d34743b10fffd61f2'\n",
    "assert digest['pr_std'] == '9fd459280dd7601cbf716ec17428e8e6e686171e3a1195594d8c51d4e8751ed5'\n",
    "assert digest['pr_mean'] == '4bb4b0a19cf52c748f1892e825373631ebf8e9629bde2e69ca0d941af80b01fc'"
   ]
  },
  {
   "cell_type": "code",
   "execution_count": null,
   "metadata": {},
   "outputs": [],
   "source": []
  }
 ],
 "metadata": {
  "kernelspec": {
   "display_name": "Python 3",
   "language": "python",
   "name": "python3"
  },
  "language_info": {
   "codemirror_mode": {
    "name": "ipython",
    "version": 3
   },
   "file_extension": ".py",
   "mimetype": "text/x-python",
   "name": "python",
   "nbconvert_exporter": "python",
   "pygments_lexer": "ipython3",
   "version": "3.8.2"
  }
 },
 "nbformat": 4,
 "nbformat_minor": 4
}
